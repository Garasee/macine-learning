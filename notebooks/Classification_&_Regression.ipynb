{
  "nbformat": 4,
  "nbformat_minor": 0,
  "metadata": {
    "colab": {
      "provenance": []
    },
    "kernelspec": {
      "name": "python3",
      "display_name": "Python 3"
    },
    "language_info": {
      "name": "python"
    }
  },
  "cells": [
    {
      "cell_type": "code",
      "execution_count": 5,
      "metadata": {
        "colab": {
          "base_uri": "https://localhost:8080/"
        },
        "id": "Nk-FdRnJmIUj",
        "outputId": "41ec40d9-3040-4415-f706-809df213ef70"
      },
      "outputs": [
        {
          "output_type": "stream",
          "name": "stdout",
          "text": [
            "Requirement already satisfied: tensorflow in /usr/local/lib/python3.10/dist-packages (2.15.0)\n",
            "Requirement already satisfied: absl-py>=1.0.0 in /usr/local/lib/python3.10/dist-packages (from tensorflow) (1.4.0)\n",
            "Requirement already satisfied: astunparse>=1.6.0 in /usr/local/lib/python3.10/dist-packages (from tensorflow) (1.6.3)\n",
            "Requirement already satisfied: flatbuffers>=23.5.26 in /usr/local/lib/python3.10/dist-packages (from tensorflow) (24.3.25)\n",
            "Requirement already satisfied: gast!=0.5.0,!=0.5.1,!=0.5.2,>=0.2.1 in /usr/local/lib/python3.10/dist-packages (from tensorflow) (0.5.4)\n",
            "Requirement already satisfied: google-pasta>=0.1.1 in /usr/local/lib/python3.10/dist-packages (from tensorflow) (0.2.0)\n",
            "Requirement already satisfied: h5py>=2.9.0 in /usr/local/lib/python3.10/dist-packages (from tensorflow) (3.9.0)\n",
            "Requirement already satisfied: libclang>=13.0.0 in /usr/local/lib/python3.10/dist-packages (from tensorflow) (18.1.1)\n",
            "Requirement already satisfied: ml-dtypes~=0.2.0 in /usr/local/lib/python3.10/dist-packages (from tensorflow) (0.2.0)\n",
            "Requirement already satisfied: numpy<2.0.0,>=1.23.5 in /usr/local/lib/python3.10/dist-packages (from tensorflow) (1.25.2)\n",
            "Requirement already satisfied: opt-einsum>=2.3.2 in /usr/local/lib/python3.10/dist-packages (from tensorflow) (3.3.0)\n",
            "Requirement already satisfied: packaging in /usr/local/lib/python3.10/dist-packages (from tensorflow) (24.0)\n",
            "Requirement already satisfied: protobuf!=4.21.0,!=4.21.1,!=4.21.2,!=4.21.3,!=4.21.4,!=4.21.5,<5.0.0dev,>=3.20.3 in /usr/local/lib/python3.10/dist-packages (from tensorflow) (3.20.3)\n",
            "Requirement already satisfied: setuptools in /usr/local/lib/python3.10/dist-packages (from tensorflow) (67.7.2)\n",
            "Requirement already satisfied: six>=1.12.0 in /usr/local/lib/python3.10/dist-packages (from tensorflow) (1.16.0)\n",
            "Requirement already satisfied: termcolor>=1.1.0 in /usr/local/lib/python3.10/dist-packages (from tensorflow) (2.4.0)\n",
            "Requirement already satisfied: typing-extensions>=3.6.6 in /usr/local/lib/python3.10/dist-packages (from tensorflow) (4.12.1)\n",
            "Requirement already satisfied: wrapt<1.15,>=1.11.0 in /usr/local/lib/python3.10/dist-packages (from tensorflow) (1.14.1)\n",
            "Requirement already satisfied: tensorflow-io-gcs-filesystem>=0.23.1 in /usr/local/lib/python3.10/dist-packages (from tensorflow) (0.37.0)\n",
            "Requirement already satisfied: grpcio<2.0,>=1.24.3 in /usr/local/lib/python3.10/dist-packages (from tensorflow) (1.64.1)\n",
            "Requirement already satisfied: tensorboard<2.16,>=2.15 in /usr/local/lib/python3.10/dist-packages (from tensorflow) (2.15.2)\n",
            "Requirement already satisfied: tensorflow-estimator<2.16,>=2.15.0 in /usr/local/lib/python3.10/dist-packages (from tensorflow) (2.15.0)\n",
            "Requirement already satisfied: keras<2.16,>=2.15.0 in /usr/local/lib/python3.10/dist-packages (from tensorflow) (2.15.0)\n",
            "Requirement already satisfied: wheel<1.0,>=0.23.0 in /usr/local/lib/python3.10/dist-packages (from astunparse>=1.6.0->tensorflow) (0.43.0)\n",
            "Requirement already satisfied: google-auth<3,>=1.6.3 in /usr/local/lib/python3.10/dist-packages (from tensorboard<2.16,>=2.15->tensorflow) (2.27.0)\n",
            "Requirement already satisfied: google-auth-oauthlib<2,>=0.5 in /usr/local/lib/python3.10/dist-packages (from tensorboard<2.16,>=2.15->tensorflow) (1.2.0)\n",
            "Requirement already satisfied: markdown>=2.6.8 in /usr/local/lib/python3.10/dist-packages (from tensorboard<2.16,>=2.15->tensorflow) (3.6)\n",
            "Requirement already satisfied: requests<3,>=2.21.0 in /usr/local/lib/python3.10/dist-packages (from tensorboard<2.16,>=2.15->tensorflow) (2.31.0)\n",
            "Requirement already satisfied: tensorboard-data-server<0.8.0,>=0.7.0 in /usr/local/lib/python3.10/dist-packages (from tensorboard<2.16,>=2.15->tensorflow) (0.7.2)\n",
            "Requirement already satisfied: werkzeug>=1.0.1 in /usr/local/lib/python3.10/dist-packages (from tensorboard<2.16,>=2.15->tensorflow) (3.0.3)\n",
            "Requirement already satisfied: cachetools<6.0,>=2.0.0 in /usr/local/lib/python3.10/dist-packages (from google-auth<3,>=1.6.3->tensorboard<2.16,>=2.15->tensorflow) (5.3.3)\n",
            "Requirement already satisfied: pyasn1-modules>=0.2.1 in /usr/local/lib/python3.10/dist-packages (from google-auth<3,>=1.6.3->tensorboard<2.16,>=2.15->tensorflow) (0.4.0)\n",
            "Requirement already satisfied: rsa<5,>=3.1.4 in /usr/local/lib/python3.10/dist-packages (from google-auth<3,>=1.6.3->tensorboard<2.16,>=2.15->tensorflow) (4.9)\n",
            "Requirement already satisfied: requests-oauthlib>=0.7.0 in /usr/local/lib/python3.10/dist-packages (from google-auth-oauthlib<2,>=0.5->tensorboard<2.16,>=2.15->tensorflow) (1.3.1)\n",
            "Requirement already satisfied: charset-normalizer<4,>=2 in /usr/local/lib/python3.10/dist-packages (from requests<3,>=2.21.0->tensorboard<2.16,>=2.15->tensorflow) (3.3.2)\n",
            "Requirement already satisfied: idna<4,>=2.5 in /usr/local/lib/python3.10/dist-packages (from requests<3,>=2.21.0->tensorboard<2.16,>=2.15->tensorflow) (3.7)\n",
            "Requirement already satisfied: urllib3<3,>=1.21.1 in /usr/local/lib/python3.10/dist-packages (from requests<3,>=2.21.0->tensorboard<2.16,>=2.15->tensorflow) (2.0.7)\n",
            "Requirement already satisfied: certifi>=2017.4.17 in /usr/local/lib/python3.10/dist-packages (from requests<3,>=2.21.0->tensorboard<2.16,>=2.15->tensorflow) (2024.6.2)\n",
            "Requirement already satisfied: MarkupSafe>=2.1.1 in /usr/local/lib/python3.10/dist-packages (from werkzeug>=1.0.1->tensorboard<2.16,>=2.15->tensorflow) (2.1.5)\n",
            "Requirement already satisfied: pyasn1<0.7.0,>=0.4.6 in /usr/local/lib/python3.10/dist-packages (from pyasn1-modules>=0.2.1->google-auth<3,>=1.6.3->tensorboard<2.16,>=2.15->tensorflow) (0.6.0)\n",
            "Requirement already satisfied: oauthlib>=3.0.0 in /usr/local/lib/python3.10/dist-packages (from requests-oauthlib>=0.7.0->google-auth-oauthlib<2,>=0.5->tensorboard<2.16,>=2.15->tensorflow) (3.2.2)\n"
          ]
        }
      ],
      "source": [
        "# Install TensorFlow (if not already installed)\n",
        "!pip install tensorflow\n",
        "\n",
        "import pandas as pd\n",
        "import tensorflow as tf\n",
        "from sklearn.model_selection import train_test_split\n",
        "from sklearn.preprocessing import StandardScaler, LabelEncoder\n"
      ]
    },
    {
      "cell_type": "code",
      "source": [
        "# Load the dataset\n",
        "file_path = '/content/df_cleaned_v2.csv'  # Adjust the path as necessary after uploading your file\n",
        "df = pd.read_csv(file_path)"
      ],
      "metadata": {
        "id": "B0cC8khDYWAD"
      },
      "execution_count": 6,
      "outputs": []
    },
    {
      "cell_type": "code",
      "source": [
        "# Drop rows with missing values\n",
        "df = df.dropna()"
      ],
      "metadata": {
        "id": "lv_qIZELYaMQ"
      },
      "execution_count": 7,
      "outputs": []
    },
    {
      "cell_type": "code",
      "source": [
        "# Encode categorical features\n",
        "categorical_features = ['brand', 'Kondisi', 'Dirakit', 'InjeksiLangsung', 'Aspirasi']\n",
        "label_encoders = {}\n",
        "\n",
        "for col in categorical_features:\n",
        "    le = LabelEncoder()\n",
        "    df[col] = le.fit_transform(df[col])\n",
        "    label_encoders[col] = le"
      ],
      "metadata": {
        "id": "xdLpW_cbYbde"
      },
      "execution_count": 8,
      "outputs": []
    },
    {
      "cell_type": "code",
      "source": [
        "# Split the data into features and targets\n",
        "X = df.drop(columns=['price'])\n",
        "y = df['price']"
      ],
      "metadata": {
        "id": "s6YKA1vQYdst"
      },
      "execution_count": 9,
      "outputs": []
    },
    {
      "cell_type": "code",
      "source": [
        "# Normalize the features\n",
        "scaler = StandardScaler()\n",
        "X = scaler.fit_transform(X)"
      ],
      "metadata": {
        "id": "RiCNOzNdYknZ"
      },
      "execution_count": 10,
      "outputs": []
    },
    {
      "cell_type": "code",
      "source": [
        "# Split the data into training and testing sets for both classification and regression\n",
        "X_train, X_test, y_train, y_test = train_test_split(X, y, test_size=0.2, random_state=42)"
      ],
      "metadata": {
        "id": "7PxqT0DEYm_g"
      },
      "execution_count": 11,
      "outputs": []
    },
    {
      "cell_type": "code",
      "source": [
        "# Create a categorical target for classification by binning the price\n",
        "y_classification = pd.qcut(y, q=3, labels=False)  # Bin the prices into 3 categories\n",
        "y_train_cls, y_test_cls = train_test_split(y_classification, test_size=0.2, random_state=42)\n"
      ],
      "metadata": {
        "id": "TbrVIpUeYpJw"
      },
      "execution_count": 12,
      "outputs": []
    },
    {
      "cell_type": "code",
      "source": [
        "# Check shapes\n",
        "(X_train.shape, X_test.shape, y_train.shape, y_test.shape, y_train_cls.shape, y_test_cls.shape)\n"
      ],
      "metadata": {
        "colab": {
          "base_uri": "https://localhost:8080/"
        },
        "id": "kRg4RU7QYrF-",
        "outputId": "b86ced6a-9452-4e2c-bb00-33af4c41d649"
      },
      "execution_count": 13,
      "outputs": [
        {
          "output_type": "execute_result",
          "data": {
            "text/plain": [
              "((10174, 14), (2544, 14), (10174,), (2544,), (10174,), (2544,))"
            ]
          },
          "metadata": {},
          "execution_count": 13
        }
      ]
    },
    {
      "cell_type": "code",
      "source": [
        "# Define the classification model\n",
        "classification_model = tf.keras.models.Sequential([\n",
        "    tf.keras.layers.Dense(64, input_dim=X_train.shape[1], activation='relu'),\n",
        "    tf.keras.layers.Dense(32, activation='relu'),\n",
        "    tf.keras.layers.Dense(3, activation='softmax')  # 3 output classes\n",
        "])\n",
        "\n",
        "classification_model.compile(optimizer='adam', loss='sparse_categorical_crossentropy', metrics=['accuracy'])"
      ],
      "metadata": {
        "id": "K0GzQ6bYYu0A"
      },
      "execution_count": 14,
      "outputs": []
    },
    {
      "cell_type": "code",
      "source": [
        "# Train the classification model\n",
        "classification_model.fit(X_train, y_train_cls, epochs=50, batch_size=32, validation_split=0.2)"
      ],
      "metadata": {
        "colab": {
          "base_uri": "https://localhost:8080/"
        },
        "id": "qbJ4hp5cY0Ap",
        "outputId": "c9e91130-16b9-4519-a37c-70d0ccc92706"
      },
      "execution_count": 15,
      "outputs": [
        {
          "output_type": "stream",
          "name": "stdout",
          "text": [
            "Epoch 1/50\n",
            "255/255 [==============================] - 2s 3ms/step - loss: 0.5201 - accuracy: 0.7854 - val_loss: 0.4176 - val_accuracy: 0.8236\n",
            "Epoch 2/50\n",
            "255/255 [==============================] - 1s 2ms/step - loss: 0.3647 - accuracy: 0.8468 - val_loss: 0.3602 - val_accuracy: 0.8585\n",
            "Epoch 3/50\n",
            "255/255 [==============================] - 1s 3ms/step - loss: 0.3221 - accuracy: 0.8673 - val_loss: 0.3274 - val_accuracy: 0.8737\n",
            "Epoch 4/50\n",
            "255/255 [==============================] - 1s 2ms/step - loss: 0.2975 - accuracy: 0.8754 - val_loss: 0.3144 - val_accuracy: 0.8776\n",
            "Epoch 5/50\n",
            "255/255 [==============================] - 1s 2ms/step - loss: 0.2758 - accuracy: 0.8855 - val_loss: 0.2955 - val_accuracy: 0.8830\n",
            "Epoch 6/50\n",
            "255/255 [==============================] - 1s 2ms/step - loss: 0.2594 - accuracy: 0.8919 - val_loss: 0.2812 - val_accuracy: 0.8870\n",
            "Epoch 7/50\n",
            "255/255 [==============================] - 0s 2ms/step - loss: 0.2465 - accuracy: 0.8973 - val_loss: 0.2660 - val_accuracy: 0.8929\n",
            "Epoch 8/50\n",
            "255/255 [==============================] - 1s 3ms/step - loss: 0.2343 - accuracy: 0.9059 - val_loss: 0.2567 - val_accuracy: 0.8924\n",
            "Epoch 9/50\n",
            "255/255 [==============================] - 1s 3ms/step - loss: 0.2261 - accuracy: 0.9087 - val_loss: 0.2553 - val_accuracy: 0.8968\n",
            "Epoch 10/50\n",
            "255/255 [==============================] - 1s 4ms/step - loss: 0.2194 - accuracy: 0.9097 - val_loss: 0.2581 - val_accuracy: 0.9002\n",
            "Epoch 11/50\n",
            "255/255 [==============================] - 1s 3ms/step - loss: 0.2123 - accuracy: 0.9147 - val_loss: 0.2351 - val_accuracy: 0.9115\n",
            "Epoch 12/50\n",
            "255/255 [==============================] - 1s 4ms/step - loss: 0.2046 - accuracy: 0.9203 - val_loss: 0.2314 - val_accuracy: 0.9096\n",
            "Epoch 13/50\n",
            "255/255 [==============================] - 2s 6ms/step - loss: 0.1970 - accuracy: 0.9230 - val_loss: 0.2319 - val_accuracy: 0.9002\n",
            "Epoch 14/50\n",
            "255/255 [==============================] - 1s 5ms/step - loss: 0.1949 - accuracy: 0.9230 - val_loss: 0.2229 - val_accuracy: 0.9179\n",
            "Epoch 15/50\n",
            "255/255 [==============================] - 2s 7ms/step - loss: 0.1896 - accuracy: 0.9260 - val_loss: 0.2204 - val_accuracy: 0.9179\n",
            "Epoch 16/50\n",
            "255/255 [==============================] - 1s 5ms/step - loss: 0.1857 - accuracy: 0.9270 - val_loss: 0.2207 - val_accuracy: 0.9204\n",
            "Epoch 17/50\n",
            "255/255 [==============================] - 1s 5ms/step - loss: 0.1824 - accuracy: 0.9301 - val_loss: 0.2130 - val_accuracy: 0.9209\n",
            "Epoch 18/50\n",
            "255/255 [==============================] - 1s 3ms/step - loss: 0.1795 - accuracy: 0.9290 - val_loss: 0.2035 - val_accuracy: 0.9204\n",
            "Epoch 19/50\n",
            "255/255 [==============================] - 1s 2ms/step - loss: 0.1781 - accuracy: 0.9286 - val_loss: 0.2168 - val_accuracy: 0.9091\n",
            "Epoch 20/50\n",
            "255/255 [==============================] - 1s 2ms/step - loss: 0.1749 - accuracy: 0.9309 - val_loss: 0.2111 - val_accuracy: 0.9204\n",
            "Epoch 21/50\n",
            "255/255 [==============================] - 1s 2ms/step - loss: 0.1730 - accuracy: 0.9319 - val_loss: 0.2029 - val_accuracy: 0.9184\n",
            "Epoch 22/50\n",
            "255/255 [==============================] - 1s 2ms/step - loss: 0.1688 - accuracy: 0.9349 - val_loss: 0.2057 - val_accuracy: 0.9145\n",
            "Epoch 23/50\n",
            "255/255 [==============================] - 1s 2ms/step - loss: 0.1667 - accuracy: 0.9339 - val_loss: 0.2238 - val_accuracy: 0.9101\n",
            "Epoch 24/50\n",
            "255/255 [==============================] - 1s 2ms/step - loss: 0.1647 - accuracy: 0.9350 - val_loss: 0.2101 - val_accuracy: 0.9204\n",
            "Epoch 25/50\n",
            "255/255 [==============================] - 1s 2ms/step - loss: 0.1613 - accuracy: 0.9361 - val_loss: 0.2013 - val_accuracy: 0.9199\n",
            "Epoch 26/50\n",
            "255/255 [==============================] - 1s 2ms/step - loss: 0.1608 - accuracy: 0.9348 - val_loss: 0.1990 - val_accuracy: 0.9238\n",
            "Epoch 27/50\n",
            "255/255 [==============================] - 1s 2ms/step - loss: 0.1604 - accuracy: 0.9364 - val_loss: 0.1937 - val_accuracy: 0.9258\n",
            "Epoch 28/50\n",
            "255/255 [==============================] - 1s 2ms/step - loss: 0.1577 - accuracy: 0.9375 - val_loss: 0.1929 - val_accuracy: 0.9248\n",
            "Epoch 29/50\n",
            "255/255 [==============================] - 1s 2ms/step - loss: 0.1576 - accuracy: 0.9360 - val_loss: 0.1925 - val_accuracy: 0.9233\n",
            "Epoch 30/50\n",
            "255/255 [==============================] - 1s 2ms/step - loss: 0.1546 - accuracy: 0.9411 - val_loss: 0.2164 - val_accuracy: 0.9125\n",
            "Epoch 31/50\n",
            "255/255 [==============================] - 1s 2ms/step - loss: 0.1548 - accuracy: 0.9386 - val_loss: 0.1909 - val_accuracy: 0.9214\n",
            "Epoch 32/50\n",
            "255/255 [==============================] - 1s 2ms/step - loss: 0.1545 - accuracy: 0.9398 - val_loss: 0.1967 - val_accuracy: 0.9229\n",
            "Epoch 33/50\n",
            "255/255 [==============================] - 1s 3ms/step - loss: 0.1521 - accuracy: 0.9405 - val_loss: 0.1934 - val_accuracy: 0.9209\n",
            "Epoch 34/50\n",
            "255/255 [==============================] - 1s 3ms/step - loss: 0.1504 - accuracy: 0.9420 - val_loss: 0.1893 - val_accuracy: 0.9248\n",
            "Epoch 35/50\n",
            "255/255 [==============================] - 1s 3ms/step - loss: 0.1505 - accuracy: 0.9408 - val_loss: 0.2017 - val_accuracy: 0.9135\n",
            "Epoch 36/50\n",
            "255/255 [==============================] - 1s 3ms/step - loss: 0.1499 - accuracy: 0.9409 - val_loss: 0.1852 - val_accuracy: 0.9199\n",
            "Epoch 37/50\n",
            "255/255 [==============================] - 1s 2ms/step - loss: 0.1490 - accuracy: 0.9424 - val_loss: 0.1876 - val_accuracy: 0.9253\n",
            "Epoch 38/50\n",
            "255/255 [==============================] - 0s 2ms/step - loss: 0.1519 - accuracy: 0.9393 - val_loss: 0.1864 - val_accuracy: 0.9170\n",
            "Epoch 39/50\n",
            "255/255 [==============================] - 1s 3ms/step - loss: 0.1468 - accuracy: 0.9425 - val_loss: 0.1864 - val_accuracy: 0.9268\n",
            "Epoch 40/50\n",
            "255/255 [==============================] - 1s 3ms/step - loss: 0.1481 - accuracy: 0.9399 - val_loss: 0.1886 - val_accuracy: 0.9268\n",
            "Epoch 41/50\n",
            "255/255 [==============================] - 1s 2ms/step - loss: 0.1478 - accuracy: 0.9419 - val_loss: 0.1848 - val_accuracy: 0.9268\n",
            "Epoch 42/50\n",
            "255/255 [==============================] - 1s 2ms/step - loss: 0.1469 - accuracy: 0.9414 - val_loss: 0.1840 - val_accuracy: 0.9278\n",
            "Epoch 43/50\n",
            "255/255 [==============================] - 1s 2ms/step - loss: 0.1492 - accuracy: 0.9398 - val_loss: 0.1840 - val_accuracy: 0.9248\n",
            "Epoch 44/50\n",
            "255/255 [==============================] - 1s 2ms/step - loss: 0.1449 - accuracy: 0.9445 - val_loss: 0.1878 - val_accuracy: 0.9214\n",
            "Epoch 45/50\n",
            "255/255 [==============================] - 1s 2ms/step - loss: 0.1446 - accuracy: 0.9427 - val_loss: 0.2047 - val_accuracy: 0.9111\n",
            "Epoch 46/50\n",
            "255/255 [==============================] - 1s 2ms/step - loss: 0.1431 - accuracy: 0.9443 - val_loss: 0.1829 - val_accuracy: 0.9307\n",
            "Epoch 47/50\n",
            "255/255 [==============================] - 1s 2ms/step - loss: 0.1430 - accuracy: 0.9431 - val_loss: 0.1842 - val_accuracy: 0.9268\n",
            "Epoch 48/50\n",
            "255/255 [==============================] - 1s 2ms/step - loss: 0.1427 - accuracy: 0.9424 - val_loss: 0.1878 - val_accuracy: 0.9287\n",
            "Epoch 49/50\n",
            "255/255 [==============================] - 1s 2ms/step - loss: 0.1434 - accuracy: 0.9415 - val_loss: 0.1932 - val_accuracy: 0.9312\n",
            "Epoch 50/50\n",
            "255/255 [==============================] - 1s 2ms/step - loss: 0.1430 - accuracy: 0.9434 - val_loss: 0.1751 - val_accuracy: 0.9233\n"
          ]
        },
        {
          "output_type": "execute_result",
          "data": {
            "text/plain": [
              "<keras.src.callbacks.History at 0x78798da77070>"
            ]
          },
          "metadata": {},
          "execution_count": 15
        }
      ]
    },
    {
      "cell_type": "code",
      "source": [
        "# Evaluate the classification model\n",
        "classification_loss, classification_accuracy = classification_model.evaluate(X_test, y_test_cls)\n",
        "print(f\"Classification Accuracy: {classification_accuracy}\")"
      ],
      "metadata": {
        "colab": {
          "base_uri": "https://localhost:8080/"
        },
        "id": "HBgV0kSQY4ET",
        "outputId": "90ab0fc2-7bc6-4247-856e-ea0156404848"
      },
      "execution_count": 16,
      "outputs": [
        {
          "output_type": "stream",
          "name": "stdout",
          "text": [
            "80/80 [==============================] - 0s 1ms/step - loss: 0.1532 - accuracy: 0.9375\n",
            "Classification Accuracy: 0.9375\n"
          ]
        }
      ]
    },
    {
      "cell_type": "code",
      "source": [
        "# Define the regression model\n",
        "regression_model = tf.keras.models.Sequential([\n",
        "    tf.keras.layers.Dense(64, input_dim=X_train.shape[1], activation='relu'),\n",
        "    tf.keras.layers.Dense(32, activation='relu'),\n",
        "    tf.keras.layers.Dense(1)  # Single output for regression\n",
        "])\n",
        "\n",
        "regression_model.compile(optimizer='adam', loss='mean_squared_error', metrics=['mae'])"
      ],
      "metadata": {
        "id": "EYoNjZJSY65-"
      },
      "execution_count": 17,
      "outputs": []
    },
    {
      "cell_type": "code",
      "source": [
        "# Train the regression model\n",
        "regression_model.fit(X_train, y_train, epochs=50, batch_size=32, validation_split=0.2)"
      ],
      "metadata": {
        "colab": {
          "base_uri": "https://localhost:8080/"
        },
        "id": "l0oyQHa7Y9a-",
        "outputId": "718f8d07-3cf0-412c-967d-8d66b5acc230"
      },
      "execution_count": 18,
      "outputs": [
        {
          "output_type": "stream",
          "name": "stdout",
          "text": [
            "Epoch 1/50\n",
            "255/255 [==============================] - 2s 3ms/step - loss: 279911436816220160.0000 - mae: 429867808.0000 - val_loss: 293748103457013760.0000 - val_mae: 442962496.0000\n",
            "Epoch 2/50\n",
            "255/255 [==============================] - 1s 3ms/step - loss: 279909701649432576.0000 - mae: 429866400.0000 - val_loss: 293744152087101440.0000 - val_mae: 442959520.0000\n",
            "Epoch 3/50\n",
            "255/255 [==============================] - 1s 4ms/step - loss: 279903156119273472.0000 - mae: 429861408.0000 - val_loss: 293733741086375936.0000 - val_mae: 442951776.0000\n",
            "Epoch 4/50\n",
            "255/255 [==============================] - 1s 3ms/step - loss: 279889137346019328.0000 - mae: 429850848.0000 - val_loss: 293713606279692288.0000 - val_mae: 442936928.0000\n",
            "Epoch 5/50\n",
            "255/255 [==============================] - 1s 4ms/step - loss: 279865222968115200.0000 - mae: 429833152.0000 - val_loss: 293682407637254144.0000 - val_mae: 442914016.0000\n",
            "Epoch 6/50\n",
            "255/255 [==============================] - 1s 4ms/step - loss: 279830107315503104.0000 - mae: 429806720.0000 - val_loss: 293637946135805952.0000 - val_mae: 442881728.0000\n",
            "Epoch 7/50\n",
            "255/255 [==============================] - 1s 4ms/step - loss: 279781934962311168.0000 - mae: 429771072.0000 - val_loss: 293578744306597888.0000 - val_mae: 442838496.0000\n",
            "Epoch 8/50\n",
            "255/255 [==============================] - 1s 3ms/step - loss: 279719228439789568.0000 - mae: 429724640.0000 - val_loss: 293503874436694016.0000 - val_mae: 442784192.0000\n",
            "Epoch 9/50\n",
            "255/255 [==============================] - 2s 6ms/step - loss: 279641575431077888.0000 - mae: 429667200.0000 - val_loss: 293412133935251456.0000 - val_mae: 442717248.0000\n",
            "Epoch 10/50\n",
            "255/255 [==============================] - 1s 3ms/step - loss: 279548288741408768.0000 - mae: 429598176.0000 - val_loss: 293303832039915520.0000 - val_mae: 442638496.0000\n",
            "Epoch 11/50\n",
            "255/255 [==============================] - 1s 4ms/step - loss: 279438938874052608.0000 - mae: 429516960.0000 - val_loss: 293177869239058432.0000 - val_mae: 442547008.0000\n",
            "Epoch 12/50\n",
            "255/255 [==============================] - 1s 4ms/step - loss: 279312598116073472.0000 - mae: 429423744.0000 - val_loss: 293033352179482624.0000 - val_mae: 442441984.0000\n",
            "Epoch 13/50\n",
            "255/255 [==============================] - 1s 4ms/step - loss: 279169197747994624.0000 - mae: 429318272.0000 - val_loss: 292870590098833408.0000 - val_mae: 442323808.0000\n",
            "Epoch 14/50\n",
            "255/255 [==============================] - 1s 4ms/step - loss: 279008050575048704.0000 - mae: 429199040.0000 - val_loss: 292688758363389952.0000 - val_mae: 442191552.0000\n",
            "Epoch 15/50\n",
            "255/255 [==============================] - 1s 2ms/step - loss: 278829053518020608.0000 - mae: 429066656.0000 - val_loss: 292486757461524480.0000 - val_mae: 442044832.0000\n",
            "Epoch 16/50\n",
            "255/255 [==============================] - 1s 2ms/step - loss: 278630591669207040.0000 - mae: 428920576.0000 - val_loss: 292264999710097408.0000 - val_mae: 441883712.0000\n",
            "Epoch 17/50\n",
            "255/255 [==============================] - 1s 3ms/step - loss: 278414279936311296.0000 - mae: 428759968.0000 - val_loss: 292023210231201792.0000 - val_mae: 441707904.0000\n",
            "Epoch 18/50\n",
            "255/255 [==============================] - 1s 3ms/step - loss: 278177644418170880.0000 - mae: 428585536.0000 - val_loss: 291758674605506560.0000 - val_mae: 441515712.0000\n",
            "Epoch 19/50\n",
            "255/255 [==============================] - 1s 3ms/step - loss: 277920393057009664.0000 - mae: 428394816.0000 - val_loss: 291472732862808064.0000 - val_mae: 441307744.0000\n",
            "Epoch 20/50\n",
            "255/255 [==============================] - 1s 3ms/step - loss: 277643127148249088.0000 - mae: 428190752.0000 - val_loss: 291163254699327488.0000 - val_mae: 441082752.0000\n",
            "Epoch 21/50\n",
            "255/255 [==============================] - 1s 3ms/step - loss: 277346516706787328.0000 - mae: 427971328.0000 - val_loss: 290836184349802496.0000 - val_mae: 440844480.0000\n",
            "Epoch 22/50\n",
            "255/255 [==============================] - 1s 3ms/step - loss: 277027709874339840.0000 - mae: 427735168.0000 - val_loss: 290483893952315392.0000 - val_mae: 440587744.0000\n",
            "Epoch 23/50\n",
            "255/255 [==============================] - 1s 2ms/step - loss: 276687582824235008.0000 - mae: 427483104.0000 - val_loss: 290106486586081280.0000 - val_mae: 440312768.0000\n",
            "Epoch 24/50\n",
            "255/255 [==============================] - 1s 2ms/step - loss: 276324898605891584.0000 - mae: 427213792.0000 - val_loss: 289707947980750848.0000 - val_mae: 440022080.0000\n",
            "Epoch 25/50\n",
            "255/255 [==============================] - 1s 2ms/step - loss: 275939588499832832.0000 - mae: 426928224.0000 - val_loss: 289282402621063168.0000 - val_mae: 439711776.0000\n",
            "Epoch 26/50\n",
            "255/255 [==============================] - 0s 2ms/step - loss: 275530896591814656.0000 - mae: 426625824.0000 - val_loss: 288832255688704000.0000 - val_mae: 439383040.0000\n",
            "Epoch 27/50\n",
            "255/255 [==============================] - 1s 3ms/step - loss: 275099218018828288.0000 - mae: 426305248.0000 - val_loss: 288357885140795392.0000 - val_mae: 439036480.0000\n",
            "Epoch 28/50\n",
            "255/255 [==============================] - 1s 4ms/step - loss: 274643470449115136.0000 - mae: 425966176.0000 - val_loss: 287857195033296896.0000 - val_mae: 438670240.0000\n",
            "Epoch 29/50\n",
            "255/255 [==============================] - 1s 3ms/step - loss: 274165973165015040.0000 - mae: 425609952.0000 - val_loss: 287335390866571264.0000 - val_mae: 438287840.0000\n",
            "Epoch 30/50\n",
            "255/255 [==============================] - 1s 4ms/step - loss: 273662929415438336.0000 - mae: 425236992.0000 - val_loss: 286782577035968512.0000 - val_mae: 437882912.0000\n",
            "Epoch 31/50\n",
            "255/255 [==============================] - 1s 4ms/step - loss: 273134373560123392.0000 - mae: 424842688.0000 - val_loss: 286203289026953216.0000 - val_mae: 437458016.0000\n",
            "Epoch 32/50\n",
            "255/255 [==============================] - 1s 4ms/step - loss: 272581216132136960.0000 - mae: 424429952.0000 - val_loss: 285597698638217216.0000 - val_mae: 437013344.0000\n",
            "Epoch 33/50\n",
            "255/255 [==============================] - 1s 3ms/step - loss: 272002563778281472.0000 - mae: 423996704.0000 - val_loss: 284964001983496192.0000 - val_mae: 436547392.0000\n",
            "Epoch 34/50\n",
            "255/255 [==============================] - 1s 4ms/step - loss: 271398399318687744.0000 - mae: 423545536.0000 - val_loss: 284304793223036928.0000 - val_mae: 436061696.0000\n",
            "Epoch 35/50\n",
            "255/255 [==============================] - 1s 5ms/step - loss: 270766094233370624.0000 - mae: 423071328.0000 - val_loss: 283610365730750464.0000 - val_mae: 435549856.0000\n",
            "Epoch 36/50\n",
            "255/255 [==============================] - 1s 3ms/step - loss: 270106215458013184.0000 - mae: 422577344.0000 - val_loss: 282891645903437824.0000 - val_mae: 435019072.0000\n",
            "Epoch 37/50\n",
            "255/255 [==============================] - 1s 4ms/step - loss: 269420618418487296.0000 - mae: 422062016.0000 - val_loss: 282143204902436864.0000 - val_mae: 434465696.0000\n",
            "Epoch 38/50\n",
            "255/255 [==============================] - 1s 2ms/step - loss: 268709870050476032.0000 - mae: 421529184.0000 - val_loss: 281369268975566848.0000 - val_mae: 433892096.0000\n",
            "Epoch 39/50\n",
            "255/255 [==============================] - 1s 2ms/step - loss: 267969537947729920.0000 - mae: 420967616.0000 - val_loss: 280558791466942464.0000 - val_mae: 433291104.0000\n",
            "Epoch 40/50\n",
            "255/255 [==============================] - 1s 2ms/step - loss: 267201099578998784.0000 - mae: 420389536.0000 - val_loss: 279721324383830016.0000 - val_mae: 432668608.0000\n",
            "Epoch 41/50\n",
            "255/255 [==============================] - 1s 2ms/step - loss: 266405242139049984.0000 - mae: 419785632.0000 - val_loss: 278857022345052160.0000 - val_mae: 432024800.0000\n",
            "Epoch 42/50\n",
            "255/255 [==============================] - 0s 2ms/step - loss: 265580264820834304.0000 - mae: 419163968.0000 - val_loss: 277960284713254912.0000 - val_mae: 431355808.0000\n",
            "Epoch 43/50\n",
            "255/255 [==============================] - 1s 2ms/step - loss: 264724002960834560.0000 - mae: 418513376.0000 - val_loss: 277027967572377600.0000 - val_mae: 430659008.0000\n",
            "Epoch 44/50\n",
            "255/255 [==============================] - 0s 2ms/step - loss: 263839291237466112.0000 - mae: 417842912.0000 - val_loss: 276066530553233408.0000 - val_mae: 429939072.0000\n",
            "Epoch 45/50\n",
            "255/255 [==============================] - 1s 2ms/step - loss: 262926868385103872.0000 - mae: 417145824.0000 - val_loss: 275077537023918080.0000 - val_mae: 429196480.0000\n",
            "Epoch 46/50\n",
            "255/255 [==============================] - 1s 2ms/step - loss: 261986974921916416.0000 - mae: 416428032.0000 - val_loss: 274051830114156544.0000 - val_mae: 428424640.0000\n",
            "Epoch 47/50\n",
            "255/255 [==============================] - 1s 2ms/step - loss: 261016398212366336.0000 - mae: 415686208.0000 - val_loss: 272998618233831424.0000 - val_mae: 427630592.0000\n",
            "Epoch 48/50\n",
            "255/255 [==============================] - 1s 2ms/step - loss: 260011977160523776.0000 - mae: 414916640.0000 - val_loss: 271905720855691264.0000 - val_mae: 426804704.0000\n",
            "Epoch 49/50\n",
            "255/255 [==============================] - 1s 2ms/step - loss: 258980343195893760.0000 - mae: 414122304.0000 - val_loss: 270789493215199232.0000 - val_mae: 425958720.0000\n",
            "Epoch 50/50\n",
            "255/255 [==============================] - 1s 2ms/step - loss: 257917304430395392.0000 - mae: 413304768.0000 - val_loss: 269634817027473408.0000 - val_mae: 425081856.0000\n"
          ]
        },
        {
          "output_type": "execute_result",
          "data": {
            "text/plain": [
              "<keras.src.callbacks.History at 0x78797d250880>"
            ]
          },
          "metadata": {},
          "execution_count": 18
        }
      ]
    },
    {
      "cell_type": "code",
      "source": [
        "# Evaluate the regression model\n",
        "regression_loss, regression_mae = regression_model.evaluate(X_test, y_test)\n",
        "print(f\"Regression MAE: {regression_mae}\")"
      ],
      "metadata": {
        "colab": {
          "base_uri": "https://localhost:8080/"
        },
        "id": "2D7p027XY_-0",
        "outputId": "50240c33-6715-4cdf-afbc-1113061e6b4f"
      },
      "execution_count": 19,
      "outputs": [
        {
          "output_type": "stream",
          "name": "stdout",
          "text": [
            "80/80 [==============================] - 0s 1ms/step - loss: 260719925209858048.0000 - mae: 414486816.0000\n",
            "Regression MAE: 414486816.0\n"
          ]
        }
      ]
    }
  ]
}