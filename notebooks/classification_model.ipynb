{
 "cells": [
  {
   "cell_type": "code",
   "execution_count": 70,
   "metadata": {
    "colab": {
     "base_uri": "https://localhost:8080/"
    },
    "id": "bHuT-JqYOfz3",
    "outputId": "3a5c4b10-27cf-4f6e-94e9-9ad4013921d4"
   },
   "source": [
    "pip install tensorflow_decision_forests"
   ],
   "outputs": []
  },
  {
   "cell_type": "code",
   "execution_count": 105,
   "metadata": {
    "id": "JmNH4jRfNGSG"
   },
   "source": [
    "import pandas as pd\n",
    "import tensorflow_decision_forests as tfdf\n",
    "import matplotlib.pyplot as plt\n",
    "import numpy as np\n",
    "import imblearn\n",
    "from imblearn.under_sampling import RandomUnderSampler"
   ],
   "outputs": []
  },
  {
   "cell_type": "code",
   "execution_count": 72,
   "metadata": {
    "id": "G-ZT8tYcNm-F"
   },
   "source": [
    "df = pd.read_csv('../content/datasets/car_evaluation.csv')"
   ],
   "outputs": []
  },
  {
   "cell_type": "code",
   "source": [
    "label = \"class\"\n",
    "\n",
    "classes = df[label].unique().tolist()\n",
    "print(f\"Label : {classes}\")\n",
    "\n",
    "df[label] = df[label].map(classes.index)"
   ],
   "metadata": {
    "colab": {
     "base_uri": "https://localhost:8080/"
    },
    "id": "HYBpe8t5tX68",
    "outputId": "3a86202c-20f1-4375-8682-b6be6c189ea7"
   },
   "execution_count": 73,
   "outputs": []
  },
  {
   "cell_type": "code",
   "source": [
    "\n",
    "#X = df.drop(['class'], axis=1)\n",
    "#y = df['class']\n",
    "#ran = RandomUnderSampler()\n",
    "#X_rs, y_rs = ran.fit_resample(X,y)"
   ],
   "metadata": {
    "id": "wyMZIMDKPuKS"
   },
   "execution_count": null,
   "outputs": []
  },
  {
   "cell_type": "code",
   "source": [
    "def split_dataset(dataset, test_ratio=0.20):\n",
    "  test_indices = np.random.rand(len(dataset)) < test_ratio\n",
    "  return dataset[~test_indices], dataset[test_indices]\n",
    "\n",
    "\n",
    "train_ds_pd, test_ds_pd = split_dataset(df)\n",
    "print(\"{} data utk training, {} data utk testing.\".format(\n",
    "    len(train_ds_pd), len(test_ds_pd)))"
   ],
   "metadata": {
    "colab": {
     "base_uri": "https://localhost:8080/"
    },
    "id": "cHojYTHluhu6",
    "outputId": "ce90f7ec-5b2d-4177-ef37-fc7f5a465702"
   },
   "execution_count": 74,
   "outputs": []
  },
  {
   "cell_type": "code",
   "source": [
    "train_ds_pd['class'].value_counts()"
   ],
   "metadata": {
    "colab": {
     "base_uri": "https://localhost:8080/"
    },
    "id": "YOBOBTuIIZlp",
    "outputId": "6c3d55a0-9637-4e08-c338-6988e86b400e"
   },
   "execution_count": 93,
   "outputs": []
  },
  {
   "cell_type": "code",
   "execution_count": 85,
   "metadata": {
    "id": "8Kb2rQg0QTfY"
   },
   "source": [
    "train_ds = tfdf.keras.pd_dataframe_to_tf_dataset(train_ds_pd, label=label)\n",
    "test_ds = tfdf.keras.pd_dataframe_to_tf_dataset(test_ds_pd, label=label)"
   ],
   "outputs": []
  },
  {
   "cell_type": "code",
   "source": [
    "tuner = tfdf.tuner.RandomSearch(num_trials=20)\n",
    "tuner.choice(\"num_candidate_attributes_ratio\", [1.0, 0.8, 0.6])\n",
    "tuner.choice(\"use_hessian_gain\", [True, False])\n",
    "\n",
    "tuner.choice(\"max_depth\", [2, 3, 5, 6, 8, 10, 20])"
   ],
   "metadata": {
    "colab": {
     "base_uri": "https://localhost:8080/"
    },
    "id": "jv4_uLTzDAEd",
    "outputId": "a1fe8c1d-94e6-4b26-e6c7-db053832b1dc"
   },
   "execution_count": 98,
   "outputs": []
  },
  {
   "cell_type": "code",
   "execution_count": 103,
   "metadata": {
    "id": "SKu8lmudNyaP",
    "colab": {
     "base_uri": "https://localhost:8080/"
    },
    "outputId": "ce8cc5fd-3ff3-48e1-a114-b97dcffeadd2"
   },
   "source": [
    "#model = tfdf.keras.GradientBoostedTreesModel(num_trees=500,\n",
    "                                             #growing_strategy=\"BEST_FIRST_GLOBAL\",\n",
    "                                             #max_depth=8,\n",
    "                                             #split_axis=\"SPARSE_OBLIQUE\",\n",
    "                                             #categorical_algorithm=\"RANDOM\",)\n",
    "\n",
    "model = tfdf.keras.GradientBoostedTreesModel()\n",
    "training = model.fit(train_ds)"
   ],
   "outputs": []
  },
  {
   "cell_type": "code",
   "execution_count": 102,
   "metadata": {
    "id": "dhCVqVZSaWH1",
    "colab": {
     "base_uri": "https://localhost:8080/"
    },
    "outputId": "8c600ccd-f204-4f38-dc8a-11fdc6e02ff7"
   },
   "source": [
    "model.compile(metrics=[\"accuracy\"])\n",
    "evaluation = model.evaluate(test_ds, return_dict=True)\n",
    "print()\n",
    "\n",
    "for name, value in evaluation.items():\n",
    "  print(f\"{name}: {value:.6f}\")"
   ],
   "outputs": []
  },
  {
   "cell_type": "code",
   "execution_count": 88,
   "metadata": {
    "id": "zCcrX13rggD4",
    "colab": {
     "base_uri": "https://localhost:8080/"
    },
    "outputId": "4a7cd40f-ed43-4c1b-9a02-2f93ff13b929"
   },
   "source": [
    "model.summary()"
   ],
   "outputs": []
  },
  {
   "cell_type": "code",
   "execution_count": 83,
   "metadata": {
    "id": "hTzrMoHsbKQf",
    "colab": {
     "base_uri": "https://localhost:8080/",
     "height": 718
    },
    "outputId": "3f24a10f-8908-4758-eba4-11aa9c3930cf"
   },
   "source": [
    "tfdf.model_plotter.plot_model_in_colab(model, tree_idx=0, max_depth=5)"
   ],
   "outputs": []
  },
  {
   "cell_type": "code",
   "execution_count": 84,
   "metadata": {
    "id": "2IBVDFZCgjN-",
    "colab": {
     "base_uri": "https://localhost:8080/",
     "height": 388
    },
    "outputId": "68921f62-7e01-41de-c2f4-a9367444eccd"
   },
   "source": [
    "logs = model.make_inspector().training_logs()\n",
    "\n",
    "plt.figure(figsize=(12, 4))\n",
    "\n",
    "plt.subplot(1, 2, 1)\n",
    "plt.plot([log.num_trees for log in logs], [log.evaluation.accuracy for log in logs])\n",
    "plt.xlabel(\"Number of trees\")\n",
    "plt.ylabel(\"Accuracy (out-of-bag)\")\n",
    "\n",
    "plt.subplot(1, 2, 2)\n",
    "plt.plot([log.num_trees for log in logs], [log.evaluation.loss for log in logs])\n",
    "plt.xlabel(\"Number of trees\")\n",
    "plt.ylabel(\"Logloss (out-of-bag)\")\n",
    "\n",
    "plt.show()"
   ],
   "outputs": []
  }
 ],
 "metadata": {
  "colab": {
   "provenance": []
  },
  "kernelspec": {
   "display_name": "Python 3",
   "name": "python3"
  },
  "language_info": {
   "name": "python"
  }
 },
 "nbformat": 4,
 "nbformat_minor": 0
}
